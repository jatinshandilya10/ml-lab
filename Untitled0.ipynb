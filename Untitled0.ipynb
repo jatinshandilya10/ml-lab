{
  "nbformat": 4,
  "nbformat_minor": 0,
  "metadata": {
    "colab": {
      "provenance": [],
      "authorship_tag": "ABX9TyMjMqpl/j4qYIuMoOKbdajl",
      "include_colab_link": true
    },
    "kernelspec": {
      "name": "python3",
      "display_name": "Python 3"
    },
    "language_info": {
      "name": "python"
    }
  },
  "cells": [
    {
      "cell_type": "markdown",
      "metadata": {
        "id": "view-in-github",
        "colab_type": "text"
      },
      "source": [
        "<a href=\"https://colab.research.google.com/github/jatinshandilya10/ml-lab/blob/main/Untitled0.ipynb\" target=\"_parent\"><img src=\"https://colab.research.google.com/assets/colab-badge.svg\" alt=\"Open In Colab\"/></a>"
      ]
    },
    {
      "cell_type": "code",
      "execution_count": null,
      "metadata": {
        "colab": {
          "base_uri": "https://localhost:8080/"
        },
        "id": "ZTxBNuqAX9Dv",
        "outputId": "f57e2e4b-f004-40e2-ddac-8470577dd7d5"
      },
      "outputs": [
        {
          "output_type": "stream",
          "name": "stdout",
          "text": [
            "Linear Regression Equation: Y = 0.2802 * X + 25.2648\n",
            "Mean Squared Error (MSE): 8.9170\n",
            "   Internal  External  Predicted External\n",
            "1      25.5      28.0           32.410006\n",
            "2      30.5      38.0           33.811032\n",
            "3      27.0      32.0           32.830314\n",
            "4      33.0      38.0           34.511546\n",
            "5      41.0      40.0           36.753187\n"
          ]
        }
      ],
      "source": [
        "import pandas as pd\n",
        "import numpy as np\n",
        "df = pd.read_excel('/content/Result-Experiment.xlsx')\n",
        "df_cleaned = df.iloc[1:, [5, 6]].copy()  # Selecting 'Internal' and 'External' under 'ML Lab'\n",
        "df_cleaned.columns = [\"Internal\", \"External\"]  # Renaming columns\n",
        "\n",
        "# Convert to numeric values\n",
        "df_cleaned = df_cleaned.apply(pd.to_numeric, errors='coerce')\n",
        "\n",
        "# Drop any rows with missing values\n",
        "df_cleaned = df_cleaned.dropna()\n",
        "\n",
        "# Compute means of Internal and External marks\n",
        "mean_internal = df_cleaned[\"Internal\"].mean()\n",
        "mean_external = df_cleaned[\"External\"].mean()\n",
        "\n",
        "# Compute numerator and denominator for slope (m)\n",
        "numerator = ((df_cleaned[\"Internal\"] - mean_internal) * (df_cleaned[\"External\"] - mean_external)).sum()\n",
        "denominator = ((df_cleaned[\"Internal\"] - mean_internal) ** 2).sum()\n",
        "\n",
        "# Compute slope (m)\n",
        "m = numerator / denominator\n",
        "\n",
        "# Compute intercept (b)\n",
        "b = mean_external - (m * mean_internal)\n",
        "\n",
        "# Predict External marks using the regression equation\n",
        "df_cleaned[\"Predicted External\"] = (m * df_cleaned[\"Internal\"]) + b\n",
        "\n",
        "# Compute Mean Squared Error (MSE)\n",
        "mse = ((df_cleaned[\"External\"] - df_cleaned[\"Predicted External\"]) ** 2).mean()\n",
        "\n",
        "# Print results\n",
        "print(f\"Linear Regression Equation: Y = {m:.4f} * X + {b:.4f}\")\n",
        "print(f\"Mean Squared Error (MSE): {mse:.4f}\")\n",
        "\n",
        "# Display first few predictions\n",
        "print(df_cleaned.head())"
      ]
    }
  ]
}